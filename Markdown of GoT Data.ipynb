{
 "cells": [
  {
   "cell_type": "markdown",
   "metadata": {},
   "source": [
    "# <center>*A Song of Ice and Fire* Book Series Data Analysis</center>\n",
    "---\n",
    "### <center>This exploratory data anlysis aims to characterize some of the trends and occurences that have happened over the course of the Game of Thrones book series, _A Song of Ice and Fire._</center>\n",
    "---"
   ]
  },
  {
   "cell_type": "markdown",
   "metadata": {},
   "source": [
    "<center><span style=\"color:red\"> Quick Reference Key </span><center>\n",
    "\n",
    "|Book of Death|\n",
    "|:-------------:|\n",
    "|1 = A Game of Thrones|\n",
    "|2 = A Clash of Kings|\n",
    "|3 = A Storm of Swords|\n",
    "|4 = A Feast for Crows|\n",
    "|5 = A Dance with Dragons|"
   ]
  },
  {
   "cell_type": "markdown",
   "metadata": {},
   "source": [
    "## <span style=\"color:red\"> **Book of Death vs. Nobility** </span>\n",
    "![Book of Death vs. Nobility](http://localhost:8889/files/img/book.death.barplot.png)\n",
    "\n",
    "* _This characterizes the frequency of noble deaths per book of the Ice and Fire series, analysis shows that the most noble deaths occured in book 3 of the series._\n"
   ]
  },
  {
   "cell_type": "markdown",
   "metadata": {},
   "source": [
    "## <span style=\"color:red\"> **Book of Death vs. Non-nobility** </span>\n",
    "![Book of Death vs. Non-nobility](http://localhost:8889/files/img/book.death.nonnoble.barplot.png)\n",
    "\n",
    "* _Like the bar graph above, this characterizes the frequency of deaths per book of the Ice and Fire series, but this displays deaths associated with non-noble characters._"
   ]
  },
  {
   "cell_type": "markdown",
   "metadata": {},
   "source": [
    "## <span style=\"color:red\"> **Book of Death vs. Character Gender** </span>\n",
    "![Book of Death vs. Character Gender](http://localhost:8889/files/img/bookdeath.by.gender.boxplot.png)\n",
    "\n",
    "* _This box plot appears to show that male characters peak death occurences were earlier in the series than female character deaths, though the median was similar (med = 3)._ \n",
    "* _First quartile distribution was different with perhaps a certain level of significance, but range was similar between groups._"
   ]
  },
  {
   "cell_type": "markdown",
   "metadata": {},
   "source": [
    "## <span style=\"color:red\"> **Chapter of Death vs. Book of Death** </span>\n",
    "![Chapter Death vs. Book of Death](http://localhost:8888/files/img/deathchap.by.bookofdeath.boxplot.png)\n",
    "\n",
    "* _The boxplot above examples a notable trend in the occurence of character deaths happening in increasingly earlier chapters accross the series._"
   ]
  },
  {
   "cell_type": "markdown",
   "metadata": {},
   "source": [
    "## <span style=\"color:red\"> **Book of Death vs. Nobility** </span>\n",
    "![Book of Death vs. Nobility](http://localhost:8888/files/img/Bookdeath.vs.nobility.boxplot.png)\n",
    "\n",
    "* _According to this boxplot, nobility is not a determining factor for occurence of character death, as the first and third quartiles, range, and median are identical between groups._"
   ]
  },
  {
   "cell_type": "markdown",
   "metadata": {},
   "source": [
    "## <span style=\"color:red\"> **Book of Death by Gender and Nobility** </span>\n",
    "![Book of Death by Gender and Nobility](http://localhost:8888/files/img/bookdeath.by.gender.by.nobility.boxplot.png)\n",
    "\n",
    "* _Apparently gender of the character and their standing nobility play a significant role in their death occurence, and their death occurence per book._ \n",
    "* _Likewise, the trend observed in this boxplot supports typical expectations for the era of the series and order of death occurences._\n",
    "* _Male nobility does **not** appear to be a factor in death occurence accross the series, as their overall distribution is similar._\n",
    "* _Unlike male nobility, however, female nobility does appear to significantly impact first quartile and range distributions, with noble females dying much less frequently than non-noble females._ \n",
    "* _Medians accross all groups remained similar._"
   ]
  },
  {
   "cell_type": "markdown",
   "metadata": {},
   "source": [
    "## <span style=\"color:red\"> **Table of Group Maximum Values** </span>\n",
    "![Group Max Values](http://localhost:8888/files/img/group.max.tableplot.png)\n",
    "\n",
    "* _When evaluated for all maximum values for both groups, interestingly, the data revealed only males to be included in the table._\n",
    "* _This sort of result suggests that male characters tend to be the primary story focus, as their book of death and chapter are among the latest._\n",
    "* _Additionally, male characters appear to maintain vital to the series much longer, as each character in this table appears in most of the books in the series._"
   ]
  },
  {
   "cell_type": "markdown",
   "metadata": {},
   "source": [
    "## <span style=\"color:red\"> **Table of Group Minimum Values** </span>\n",
    "![Group Min Values](http://localhost:8888/files/img/group.min.tableplot.png)\n",
    "\n",
    "* _When evaluated for all minimum values for both groups, the data reveales 86% of the table to be female._\n",
    "- _This supports the table produced above (Group Maximum Values), as it suggests that females are more likely to exist in the story line shorter and die sooner._"
   ]
  },
  {
   "cell_type": "markdown",
   "metadata": {},
   "source": [
    "## <span style=\"color:red\"> **Group Count Values by Gender, Book of Death, and Nobility** </span>\n",
    "![Group Count Values](http://localhost:8888/files/img/group.count.tableplot.png)\n",
    "\n",
    "* _According to this table, there exists a notable difference in deaths between genders, with females dying much less throughout the series._\n",
    "* _Additionally, non-nobles were much more likely to be killed between both groups._\n",
    "* _It also appears that total deaths per book tend to increase for both genders throughout the series._\n",
    "* _This table confirms the trends observed in some of the graphs above._"
   ]
  },
  {
   "cell_type": "markdown",
   "metadata": {},
   "source": [
    "## <span style=\"color:red\"> **Death Year, Chapter, and Gender Trends** </span>\n",
    "![Death Year, Chapter, and Gender Trends](http://localhost:8888/files/img/bookdeath.vs.gender.deathchap.barplot.png)\n",
    "\n",
    "* _This barplot shows the wave-like trend that chapter of death and gender have in greater detail._\n",
    "* _Books 1, 3, and 5 example the greatest  ranges of chapter that deaths occur and range of deaths in the introduction._\n",
    "* _Addiitonally, these ranges are greater for females in books 1, 3, and 5; but greater for males in books 2 and 4._"
   ]
  },
  {
   "cell_type": "markdown",
   "metadata": {},
   "source": [
    "_____"
   ]
  },
  {
   "cell_type": "markdown",
   "metadata": {},
   "source": [
    "## <center><span style=\"color:turquoise\"> This concludes the findings from an exploratory data analysis of the </span></center> <center><span style=\"color:turquoise\"> *A Song of Ice and Fire* book series </span></center>\n"
   ]
  },
  {
   "cell_type": "markdown",
   "metadata": {},
   "source": [
    "## <center><span style=\"color:salmon\"> Thank You! </span></center>"
   ]
  },
  {
   "cell_type": "markdown",
   "metadata": {
    "collapsed": true
   },
   "source": [
    "![Random Image](http://www.petlandsarasota.com/wp-content/uploads/2016/06/kitten-little.jpg)"
   ]
  }
 ],
 "metadata": {
  "anaconda-cloud": {},
  "celltoolbar": "Raw Cell Format",
  "kernelspec": {
   "display_name": "Python [Root]",
   "language": "python",
   "name": "Python [Root]"
  },
  "language_info": {
   "codemirror_mode": {
    "name": "ipython",
    "version": 3
   },
   "file_extension": ".py",
   "mimetype": "text/x-python",
   "name": "python",
   "nbconvert_exporter": "python",
   "pygments_lexer": "ipython3",
   "version": "3.5.2"
  }
 },
 "nbformat": 4,
 "nbformat_minor": 0
}
